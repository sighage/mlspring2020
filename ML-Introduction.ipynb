{
 "cells": [
  {
   "cell_type": "markdown",
   "metadata": {},
   "source": [
    "# What is machine learning, and how does it work?"
   ]
  },
  {
   "cell_type": "markdown",
   "metadata": {},
   "source": [
    "#### Created by Siraj Un Muneer - Department of Computer Science, BUITEMS"
   ]
  },
  {
   "cell_type": "markdown",
   "metadata": {},
   "source": [
    "## What is Machine Learning?\n",
    "One definition: \"Machine learning is the semi-automated extraction of knowledge from data\"\n",
    "\n",
    "Knowledge from data: Starts with a question that might be answerable using data\n",
    "Automated extraction: A computer provides the insight\n",
    "Semi-automated: Requires many smart decisions by a human"
   ]
  },
  {
   "cell_type": "markdown",
   "metadata": {},
   "source": [
    "## What are the two main categories of machine learning?\n",
    "#### Supervised learning: Making predictions using data\n",
    "\n",
    "Example: Is a given email \"spam\" or \"ham\"?\n",
    "There is an outcome we are trying to predict\n",
    "\n",
    "#### Unsupervised learning: Extracting structure from data\n",
    "\n",
    "Example: Segment grocery store shoppers into clusters that exhibit similar behaviors\n",
    "There is no \"right answer\""
   ]
  },
  {
   "attachments": {},
   "cell_type": "markdown",
   "metadata": {},
   "source": [
    "<img src=\"images/ml.png\" width=800 /> ![](images/ml.png)"
   ]
  },
  {
   "cell_type": "markdown",
   "metadata": {},
   "source": [
    "### How does machine learning \"work\"?\n",
    "High-level steps of supervised learning:\n",
    "\n",
    "First, train a machine learning model using labeled data\n",
    "\n",
    "\"Labeled data\" has been labeled with the outcome\n",
    "\"Machine learning model\" learns the relationship between the attributes of the data and its outcome\n",
    "Then, make predictions on new data for which the label is unknown\n",
    "\n",
    "The primary goal of supervised learning is to build a model that \"generalizes\": It accurately predicts the future rather than the past!\n",
    "\n",
    "### Questions about machine learning\n",
    "How do I choose which attributes of my data to include in the model?\n",
    "How do I choose which model to use?\n",
    "How do I optimize this model for best performance?\n",
    "How do I ensure that I'm building a model that will generalize to unseen data?\n",
    "Can I estimate how well my model is likely to perform on unseen data?"
   ]
  },
  {
   "cell_type": "markdown",
   "metadata": {},
   "source": []
  }
 ],
 "metadata": {
  "kernelspec": {
   "display_name": "Python 3",
   "language": "python",
   "name": "python3"
  },
  "language_info": {
   "codemirror_mode": {
    "name": "ipython",
    "version": 3
   },
   "file_extension": ".py",
   "mimetype": "text/x-python",
   "name": "python",
   "nbconvert_exporter": "python",
   "pygments_lexer": "ipython3",
   "version": "3.6.6"
  }
 },
 "nbformat": 4,
 "nbformat_minor": 2
}
