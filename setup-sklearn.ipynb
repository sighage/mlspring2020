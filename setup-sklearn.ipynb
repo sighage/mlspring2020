{
 "cells": [
  {
   "attachments": {},
   "cell_type": "markdown",
   "metadata": {},
   "source": [
    "# Setting up Python for machine learning: scikit-learn and Jupyter Notebook\n",
    "\n",
    "#### Agenda\n",
    "* What are the benefits and drawbacks of scikit-learn?\n",
    "* How do I install scikit-learn?\n",
    "* How do I use the Jupyter Notebook?\n",
    "* What are some good resources for learning Python?\n",
    "\n",
    "\n",
    "![](images/sklearn_algorithms.png)\n",
    "\n",
    "\n",
    "### Benefits and drawbacks of scikit-learn\n",
    "\n",
    "#### Benefits:\n",
    "* Consistent interface to machine learning models\n",
    "* Provides many tuning parameters but with sensible defaults\n",
    "* Exceptional documentation\n",
    "* Rich set of functionality for companion tasks\n",
    "* Active community for development and support\n",
    "\n",
    "#### Potential drawbacks:\n",
    "* Harder (than R) to get started with machine learning\n",
    "* Less emphasis (than R) on model interpretability\n",
    "\n",
    "\n",
    "### Installing scikit-learn\n",
    "![](images/sklearn.svg)\n",
    "\n",
    "* Option 1: [Install scikit-learn library](http://scikit-learn.org/stable/install.html)  (NumPy and SciPy)\n",
    "\n",
    "* Option 2: [Install Anaconda distribution](https://www.anaconda.com/download/) of Python, which includes:\n",
    "\n",
    "Hundreds of useful packages (including scikit-learn)\n",
    "IPython and Jupyter Notebook\n",
    "conda package manager\n",
    "Spyder IDE\n",
    "\n",
    "\n",
    "### Using the Jupyter Notebook\n",
    "#### Components:\n",
    "#### IPython interpreter: enhanced version of the standard Python interpreter\n",
    "#### Browser-based notebook interface: weave together code, formatted text, and plots\n",
    "#### Installation:\n",
    "* Option 1: [Install the Jupyter notebook](https://jupyter.readthedocs.io/en/latest/install.html) (includes IPython)\n",
    "* Option 2: Included with the Anaconda distribution\n",
    "#### Launching the Notebook:\n",
    "Type jupyter notebook at the command line to open the dashboard\n",
    "Don't close the command line window while the Notebook is running"
   ]
  }
 ],
 "metadata": {
  "kernelspec": {
   "display_name": "Python 3",
   "language": "python",
   "name": "python3"
  },
  "language_info": {
   "codemirror_mode": {
    "name": "ipython",
    "version": 3
   },
   "file_extension": ".py",
   "mimetype": "text/x-python",
   "name": "python",
   "nbconvert_exporter": "python",
   "pygments_lexer": "ipython3",
   "version": "3.6.6"
  }
 },
 "nbformat": 4,
 "nbformat_minor": 2
}
