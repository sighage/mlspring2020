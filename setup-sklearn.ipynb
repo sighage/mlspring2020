{
 "cells": [
  {
   "attachments": {},
   "cell_type": "markdown",
   "metadata": {},
   "source": [
    "# Setting up Python for machine learning: scikit-learn and Jupyter Notebook\n",
    "\n",
    "#### Agenda\n",
    "* What are the benefits and drawbacks of scikit-learn?\n",
    "* How do I install scikit-learn?\n",
    "* How do I use the Jupyter Notebook?\n",
    "* What are some good resources for learning Python?\n",
    "\n",
    "\n",
    "![](attachment: images/sklearn_algorithms.png)\n",
    "\n",
    "\n",
    "### Benefits and drawbacks of scikit-learn\n",
    "#### Benefits:\n",
    "* Consistent interface to machine learning models\n",
    "* Provides many tuning parameters but with sensible defaults\n",
    "* Exceptional documentation\n",
    "* Rich set of functionality for companion tasks\n",
    "* Active community for development and support\n",
    "#### Potential drawbacks:\n",
    "* Harder (than R) to get started with machine learning\n",
    "* Less emphasis (than R) on model interpretability"
   ]
  }
 ],
 "metadata": {
  "kernelspec": {
   "display_name": "Python 3",
   "language": "python",
   "name": "python3"
  },
  "language_info": {
   "codemirror_mode": {
    "name": "ipython",
    "version": 3
   },
   "file_extension": ".py",
   "mimetype": "text/x-python",
   "name": "python",
   "nbconvert_exporter": "python",
   "pygments_lexer": "ipython3",
   "version": "3.6.6"
  }
 },
 "nbformat": 4,
 "nbformat_minor": 2
}
